{
 "cells": [
  {
   "attachments": {},
   "cell_type": "markdown",
   "metadata": {},
   "source": [
    "# Data Mining on Brazilian Online Store Olist \n",
    "# Nikolaos Giannatos t8190025 - Mastori Anna t8190105"
   ]
  },
  {
   "cell_type": "code",
   "execution_count": 31,
   "metadata": {},
   "outputs": [],
   "source": [
    "import numpy as np\n",
    "from datetime import date, datetime, timedelta\n",
    "import pandas as pd \n",
    "\n",
    "import matplotlib.pyplot as plt \n",
    "\n",
    "from sklearn.cluster import KMeans \n",
    "from sklearn.preprocessing import StandardScaler\n",
    "from yellowbrick.cluster import SilhouetteVisualizer\n",
    "from sklearn.metrics import silhouette_score\n"
   ]
  },
  {
   "attachments": {},
   "cell_type": "markdown",
   "metadata": {},
   "source": [
    "### Fisrt Model - Customer Clustering\n"
   ]
  },
  {
   "attachments": {},
   "cell_type": "markdown",
   "metadata": {},
   "source": [
    "Based on RFM, we are going to do a client segmentation using clustering.\n",
    "RFM is a method for analysing costumers based on how recently they purchase (recency), how often  they purchase (frequency) and how much they spent (monetary).  "
   ]
  },
  {
   "attachments": {},
   "cell_type": "markdown",
   "metadata": {},
   "source": [
    "Import and prepare data"
   ]
  },
  {
   "cell_type": "code",
   "execution_count": 32,
   "metadata": {},
   "outputs": [],
   "source": [
    "df=pd.read_excel(\"olist.xlsx\",usecols=['Order Dim.Order Id','Customer Dim.Cust Id','Oreder Purchase Timestamp.Sqldate',\n",
    "                                           'Price'])\n",
    "df.rename(columns = {'Customer Dim.Cust Id':'customer_unique_id','Order Dim.Order Id':'order_id',\n",
    "                     'Oreder Purchase Timestamp.Sqldate':'order_purchase_timestamp','Price':'price'}, inplace = True)\n",
    "\n",
    "df['order_purchase_timestamp'] = df['order_purchase_timestamp'].apply(lambda x:datetime.strptime(x,'%Y-%m-%d').date()) # converting string to date\n",
    "\n",
    "dfc=df.groupby('customer_unique_id').agg({'order_id':'nunique', 'price':'sum', 'order_purchase_timestamp':lambda x: (date.today() - x.max()).days}).reset_index()  # .days atributte convert timedelta into int\n",
    "dfc=dfc.rename(columns={'order_id':'frequency', 'price':'monetary', 'order_purchase_timestamp':'recency'})"
   ]
  },
  {
   "attachments": {},
   "cell_type": "markdown",
   "metadata": {},
   "source": [
    "Scale Data"
   ]
  },
  {
   "cell_type": "code",
   "execution_count": 33,
   "metadata": {},
   "outputs": [],
   "source": [
    "dfcs=StandardScaler().fit_transform(dfc.drop([\"customer_unique_id\"], axis=1))"
   ]
  },
  {
   "attachments": {},
   "cell_type": "markdown",
   "metadata": {},
   "source": [
    "Performe Elbow Method to determine best number of clusters"
   ]
  },
  {
   "cell_type": "code",
   "execution_count": 34,
   "metadata": {},
   "outputs": [
    {
     "data": {
      "image/png": "[encoded data removed]",
      "text/plain": [
       "<Figure size 432x288 with 1 Axes>"
      ]
     },
     "metadata": {
      "needs_background": "light"
     },
     "output_type": "display_data"
    }
   ],
   "source": [
    "distortions=[]\n",
    "for i in range(1,15):\n",
    "    kmodel=KMeans(n_clusters=i,\n",
    "                 n_init=5,\n",
    "                 random_state=1)\n",
    "    kmodel.fit(dfcs)\n",
    "    distortions.append(kmodel.inertia_) \n",
    "    \n",
    "plt.plot(range(1,15), distortions, marker='o')\n",
    "plt.xlabel('Number of clusters')\n",
    "plt.ylabel('Distortion')\n",
    "plt.title('The Elbow Method showing the optimal number of clusters')\n",
    "plt.show()"
   ]
  },
  {
   "attachments": {},
   "cell_type": "markdown",
   "metadata": {},
   "source": [
    "Create the KMeans model with k = 4 clusters based on the elbow method."
   ]
  },
  {
   "cell_type": "code",
   "execution_count": 35,
   "metadata": {},
   "outputs": [],
   "source": [
    "kmodel=KMeans(n_clusters=4,n_init=5,random_state=1)\n",
    "dfc[\"cluster_kmeans\"] = kmodel.fit_predict(dfcs)"
   ]
  },
  {
   "attachments": {},
   "cell_type": "markdown",
   "metadata": {},
   "source": [
    "Create result table."
   ]
  },
  {
   "cell_type": "code",
   "execution_count": 36,
   "metadata": {},
   "outputs": [
    {
     "data": {
      "text/html": [
       "<div>\n",
       "<style scoped>\n",
       "    .dataframe tbody tr th:only-of-type {\n",
       "        vertical-align: middle;\n",
       "    }\n",
       "\n",
       "    .dataframe tbody tr th {\n",
       "        vertical-align: top;\n",
       "    }\n",
       "\n",
       "    .dataframe thead th {\n",
       "        text-align: right;\n",
       "    }\n",
       "</style>\n",
       "<table border=\"1\" class=\"dataframe\">\n",
       "  <thead>\n",
       "    <tr style=\"text-align: right;\">\n",
       "      <th></th>\n",
       "      <th>cluster_kmeans</th>\n",
       "      <th>mean_frequency</th>\n",
       "      <th>mean_recency</th>\n",
       "      <th>mean_monetary</th>\n",
       "      <th>cluster_size</th>\n",
       "    </tr>\n",
       "  </thead>\n",
       "  <tbody>\n",
       "    <tr>\n",
       "      <th>0</th>\n",
       "      <td>0</td>\n",
       "      <td>1.0</td>\n",
       "      <td>1727</td>\n",
       "      <td>101</td>\n",
       "      <td>53552</td>\n",
       "    </tr>\n",
       "    <tr>\n",
       "      <th>1</th>\n",
       "      <td>1</td>\n",
       "      <td>1.0</td>\n",
       "      <td>1988</td>\n",
       "      <td>102</td>\n",
       "      <td>39637</td>\n",
       "    </tr>\n",
       "    <tr>\n",
       "      <th>2</th>\n",
       "      <td>2</td>\n",
       "      <td>1.0</td>\n",
       "      <td>1843</td>\n",
       "      <td>1879</td>\n",
       "      <td>623</td>\n",
       "    </tr>\n",
       "    <tr>\n",
       "      <th>3</th>\n",
       "      <td>3</td>\n",
       "      <td>1.0</td>\n",
       "      <td>1831</td>\n",
       "      <td>617</td>\n",
       "      <td>4853</td>\n",
       "    </tr>\n",
       "  </tbody>\n",
       "</table>\n",
       "</div>"
      ],
      "text/plain": [
       "   cluster_kmeans  mean_frequency  mean_recency  mean_monetary  cluster_size\n",
       "0               0             1.0          1727            101         53552\n",
       "1               1             1.0          1988            102         39637\n",
       "2               2             1.0          1843           1879           623\n",
       "3               3             1.0          1831            617          4853"
      ]
     },
     "execution_count": 36,
     "metadata": {},
     "output_type": "execute_result"
    }
   ],
   "source": [
    "dfc_table=dfc.groupby('cluster_kmeans').agg(mean_frequency=pd.NamedAgg('frequency', 'mean'),\n",
    "                                           mean_recency=pd.NamedAgg('recency', 'mean'),\n",
    "                                           mean_monetary=pd.NamedAgg('monetary', 'mean'),\n",
    "                                           cluster_size=pd.NamedAgg('cluster_kmeans','count')).reset_index()\n",
    "dfc_table=dfc_table.round({\"mean_frequency\":1, \"mean_recency\":0, \"mean_monetary\":0})\n",
    "dfc_table=dfc_table.astype({'mean_recency':'int', 'mean_monetary':'int'})\n",
    "dfc_table"
   ]
  },
  {
   "attachments": {},
   "cell_type": "markdown",
   "metadata": {},
   "source": [
    "Interpetation of the results:\n",
    "\n",
    "    cluster 0: low monetary and low recency\n",
    "    \n",
    "    cluster 1: high recency and low monetary\n",
    "    \n",
    "    cluster 2: high monetary and high recency\n",
    "    \n",
    "    cluster 3: medium monetary and recency \n"
   ]
  },
  {
   "attachments": {},
   "cell_type": "markdown",
   "metadata": {},
   "source": [
    "## Second Model - Classification of Sellers"
   ]
  },
  {
   "attachments": {},
   "cell_type": "markdown",
   "metadata": {},
   "source": [
    "Importing all the libraries that we needed"
   ]
  },
  {
   "cell_type": "code",
   "execution_count": 37,
   "metadata": {},
   "outputs": [],
   "source": [
    "from sklearn.model_selection import train_test_split\n",
    "from sklearn.preprocessing import StandardScaler \n",
    "from sklearn.neighbors import KNeighborsClassifier\n",
    "from sklearn.metrics import classification_report, confusion_matrix\n",
    "import pandas as pd "
   ]
  },
  {
   "attachments": {},
   "cell_type": "markdown",
   "metadata": {},
   "source": [
    "Getting from the xlsx file the data that we needed. Then grouping by the columns needed to get the necessary info about the sellers."
   ]
  },
  {
   "cell_type": "code",
   "execution_count": 38,
   "metadata": {},
   "outputs": [],
   "source": [
    "#------------------------------------------------------------------------------------------------\n",
    "df = pd.read_excel('olist.xlsx')\n",
    "#------------------------------------------------------------------------------------------------\n",
    "seller_frequency = df.groupby('Seller Dim.Seller Id')['Product Dim.Prod Id'].count()\n",
    "\n",
    "seller_frequency = seller_frequency.to_frame(name='num_of_products_sold')\n",
    "#------------------------------------------------------------------------------------------------\n",
    "seller_profit = df.groupby('Seller Dim.Seller Id')['Price'].sum()\n",
    "\n",
    "seller_profit = seller_profit.to_frame(name='profit')\n",
    "#------------------------------------------------------------------------------------------------\n",
    "seller_customer = df.groupby('Seller Dim.Seller Id')['Customer Dim.Cust Id'].unique()\n",
    "\n",
    "seller_customer = seller_customer.to_frame(name='num_of_cust')\n",
    "\n",
    "seller_customer['num_of_cust'] = seller_customer['num_of_cust'].str.len()\n",
    "#------------------------------------------------------------------------------------------------\n",
    "seller_info_df = seller_frequency.merge(seller_profit, how='left', on = 'Seller Dim.Seller Id')\n",
    "\n",
    "seller_info_df = seller_info_df.merge(seller_customer, how='left', on = 'Seller Dim.Seller Id')"
   ]
  },
  {
   "attachments": {},
   "cell_type": "markdown",
   "metadata": {},
   "source": [
    "Starting the classification process\n",
    "\n",
    "Getting the first 600 rows that have  the category column already filled (we filled them by hand) with the appropriate category (platinum, gold, silver). "
   ]
  },
  {
   "cell_type": "code",
   "execution_count": 40,
   "metadata": {},
   "outputs": [],
   "source": [
    "df = pd.read_excel('Classification_data.xlsx')\n",
    "\n",
    "df_labeled = df.head(600)\n",
    "X = df_labeled.iloc[:, :-1].values\n",
    "y = df_labeled.iloc[:, 4].values "
   ]
  },
  {
   "attachments": {},
   "cell_type": "markdown",
   "metadata": {},
   "source": [
    "We split the dataset into random train and test subsets."
   ]
  },
  {
   "cell_type": "code",
   "execution_count": 41,
   "metadata": {},
   "outputs": [],
   "source": [
    "X_train, X_test, y_train, y_test = train_test_split(X, y, test_size=0.20, shuffle  = False) "
   ]
  },
  {
   "attachments": {},
   "cell_type": "markdown",
   "metadata": {},
   "source": [
    "Then we standardize features by removing mean and scaling to unit variance"
   ]
  },
  {
   "cell_type": "code",
   "execution_count": 42,
   "metadata": {},
   "outputs": [],
   "source": [
    "scaler = StandardScaler()\n",
    "scaler.fit(X_train)\n",
    "\n",
    "X_train = scaler.transform(X_train)\n",
    "X_test = scaler.transform(X_test) "
   ]
  },
  {
   "attachments": {},
   "cell_type": "markdown",
   "metadata": {},
   "source": [
    "We use the KNN classifier to fit data and print the confusion matrix and classification report to see if the model we created is good."
   ]
  },
  {
   "cell_type": "code",
   "execution_count": 43,
   "metadata": {},
   "outputs": [
    {
     "name": "stdout",
     "output_type": "stream",
     "text": [
      "[[16  0  8]\n",
      " [ 6  9  0]\n",
      " [ 2  0 79]]\n"
     ]
    }
   ],
   "source": [
    "classifier = KNeighborsClassifier(n_neighbors=5)\n",
    "classifier.fit(X_train, y_train) \n",
    "\n",
    "y_predict = classifier.predict(X_test)\n",
    "\n",
    "print(confusion_matrix(y_test, y_predict))\n"
   ]
  },
  {
   "cell_type": "code",
   "execution_count": 44,
   "metadata": {},
   "outputs": [
    {
     "name": "stdout",
     "output_type": "stream",
     "text": [
      "              precision    recall  f1-score   support\n",
      "\n",
      "        gold       0.67      0.67      0.67        24\n",
      "    platinum       1.00      0.60      0.75        15\n",
      "      silver       0.91      0.98      0.94        81\n",
      "\n",
      "    accuracy                           0.87       120\n",
      "   macro avg       0.86      0.75      0.79       120\n",
      "weighted avg       0.87      0.87      0.86       120\n",
      "\n"
     ]
    }
   ],
   "source": [
    "print(classification_report(y_test, y_predict))"
   ]
  },
  {
   "attachments": {},
   "cell_type": "markdown",
   "metadata": {},
   "source": [
    "Then we apply the model to the data that we don't have the column category already filled. More specifically we predict the 'categ' data with the classifier "
   ]
  },
  {
   "cell_type": "code",
   "execution_count": 45,
   "metadata": {},
   "outputs": [
    {
     "data": {
      "text/html": [
       "<div>\n",
       "<style scoped>\n",
       "    .dataframe tbody tr th:only-of-type {\n",
       "        vertical-align: middle;\n",
       "    }\n",
       "\n",
       "    .dataframe tbody tr th {\n",
       "        vertical-align: top;\n",
       "    }\n",
       "\n",
       "    .dataframe thead th {\n",
       "        text-align: right;\n",
       "    }\n",
       "</style>\n",
       "<table border=\"1\" class=\"dataframe\">\n",
       "  <thead>\n",
       "    <tr style=\"text-align: right;\">\n",
       "      <th></th>\n",
       "      <th>0</th>\n",
       "      <th>1</th>\n",
       "      <th>2</th>\n",
       "      <th>3</th>\n",
       "      <th>categ</th>\n",
       "    </tr>\n",
       "  </thead>\n",
       "  <tbody>\n",
       "    <tr>\n",
       "      <th>0</th>\n",
       "      <td>602.0</td>\n",
       "      <td>2.0</td>\n",
       "      <td>335.00</td>\n",
       "      <td>2.0</td>\n",
       "      <td>platinum</td>\n",
       "    </tr>\n",
       "    <tr>\n",
       "      <th>1</th>\n",
       "      <td>603.0</td>\n",
       "      <td>32.0</td>\n",
       "      <td>6731.15</td>\n",
       "      <td>32.0</td>\n",
       "      <td>platinum</td>\n",
       "    </tr>\n",
       "    <tr>\n",
       "      <th>2</th>\n",
       "      <td>604.0</td>\n",
       "      <td>12.0</td>\n",
       "      <td>1069.70</td>\n",
       "      <td>11.0</td>\n",
       "      <td>platinum</td>\n",
       "    </tr>\n",
       "    <tr>\n",
       "      <th>3</th>\n",
       "      <td>605.0</td>\n",
       "      <td>31.0</td>\n",
       "      <td>2718.00</td>\n",
       "      <td>31.0</td>\n",
       "      <td>platinum</td>\n",
       "    </tr>\n",
       "    <tr>\n",
       "      <th>4</th>\n",
       "      <td>606.0</td>\n",
       "      <td>31.0</td>\n",
       "      <td>3905.05</td>\n",
       "      <td>29.0</td>\n",
       "      <td>platinum</td>\n",
       "    </tr>\n",
       "    <tr>\n",
       "      <th>...</th>\n",
       "      <td>...</td>\n",
       "      <td>...</td>\n",
       "      <td>...</td>\n",
       "      <td>...</td>\n",
       "      <td>...</td>\n",
       "    </tr>\n",
       "    <tr>\n",
       "      <th>2489</th>\n",
       "      <td>3091.0</td>\n",
       "      <td>1.0</td>\n",
       "      <td>69.90</td>\n",
       "      <td>1.0</td>\n",
       "      <td>silver</td>\n",
       "    </tr>\n",
       "    <tr>\n",
       "      <th>2490</th>\n",
       "      <td>3092.0</td>\n",
       "      <td>18.0</td>\n",
       "      <td>2101.20</td>\n",
       "      <td>18.0</td>\n",
       "      <td>platinum</td>\n",
       "    </tr>\n",
       "    <tr>\n",
       "      <th>2491</th>\n",
       "      <td>3093.0</td>\n",
       "      <td>14.0</td>\n",
       "      <td>1839.86</td>\n",
       "      <td>14.0</td>\n",
       "      <td>platinum</td>\n",
       "    </tr>\n",
       "    <tr>\n",
       "      <th>2492</th>\n",
       "      <td>3094.0</td>\n",
       "      <td>60.0</td>\n",
       "      <td>9062.30</td>\n",
       "      <td>60.0</td>\n",
       "      <td>platinum</td>\n",
       "    </tr>\n",
       "    <tr>\n",
       "      <th>2493</th>\n",
       "      <td>3095.0</td>\n",
       "      <td>20.0</td>\n",
       "      <td>1426.30</td>\n",
       "      <td>20.0</td>\n",
       "      <td>platinum</td>\n",
       "    </tr>\n",
       "  </tbody>\n",
       "</table>\n",
       "<p>2494 rows × 5 columns</p>\n",
       "</div>"
      ],
      "text/plain": [
       "           0     1        2     3     categ\n",
       "0      602.0   2.0   335.00   2.0  platinum\n",
       "1      603.0  32.0  6731.15  32.0  platinum\n",
       "2      604.0  12.0  1069.70  11.0  platinum\n",
       "3      605.0  31.0  2718.00  31.0  platinum\n",
       "4      606.0  31.0  3905.05  29.0  platinum\n",
       "...      ...   ...      ...   ...       ...\n",
       "2489  3091.0   1.0    69.90   1.0    silver\n",
       "2490  3092.0  18.0  2101.20  18.0  platinum\n",
       "2491  3093.0  14.0  1839.86  14.0  platinum\n",
       "2492  3094.0  60.0  9062.30  60.0  platinum\n",
       "2493  3095.0  20.0  1426.30  20.0  platinum\n",
       "\n",
       "[2494 rows x 5 columns]"
      ]
     },
     "execution_count": 45,
     "metadata": {},
     "output_type": "execute_result"
    }
   ],
   "source": [
    "df_prediction = df.iloc[601:]\n",
    "df_prediction = df_prediction.iloc[:, :-1].values\n",
    "\n",
    "y_predict = classifier.predict(df_prediction)\n",
    "y_predict = y_predict.tolist()\n",
    "df_prediction=pd.DataFrame(df_prediction)\n",
    "df_prediction[\"categ\"] = y_predict\n",
    "df_prediction"
   ]
  }
 ],
 "metadata": {
  "kernelspec": {
   "display_name": "base",
   "language": "python",
   "name": "python3"
  },
  "language_info": {
   "codemirror_mode": {
    "name": "ipython",
    "version": 3
   },
   "file_extension": ".py",
   "mimetype": "text/x-python",
   "name": "python",
   "nbconvert_exporter": "python",
   "pygments_lexer": "ipython3",
   "version": "3.8.8"
  },
  "orig_nbformat": 4,
  "vscode": {
   "interpreter": {
    "hash": "1f3b7c3b36e17b4c3cf8e8cc47f28d255b4c5120550054492f9670363b56cfc2"
   }
  }
 },
 "nbformat": 4,
 "nbformat_minor": 2
}
